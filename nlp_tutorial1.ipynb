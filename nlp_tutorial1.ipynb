{
 "cells": [
  {
   "cell_type": "code",
   "execution_count": 1,
   "metadata": {},
   "outputs": [
    {
     "name": "stdout",
     "output_type": "stream",
     "text": [
      "*** Introductory Examples for the NLTK Book ***\n",
      "Loading text1, ..., text9 and sent1, ..., sent9\n",
      "Type the name of the text or sentence to view it.\n",
      "Type: 'texts()' or 'sents()' to list the materials.\n",
      "text1: Moby Dick by Herman Melville 1851\n",
      "text2: Sense and Sensibility by Jane Austen 1811\n",
      "text3: The Book of Genesis\n",
      "text4: Inaugural Address Corpus\n",
      "text5: Chat Corpus\n",
      "text6: Monty Python and the Holy Grail\n",
      "text7: Wall Street Journal\n",
      "text8: Personals Corpus\n",
      "text9: The Man Who Was Thursday by G . K . Chesterton 1908\n"
     ]
    }
   ],
   "source": [
    "# importing the nltk module\n",
    "import nltk\n",
    "# before importing any library from nltk download all the resource using  nltk.download()\n",
    "# once downloaded ,we will have all the interesting repository of interesting texts.\n",
    "from nltk.book import *"
   ]
  },
  {
   "cell_type": "code",
   "execution_count": 8,
   "metadata": {},
   "outputs": [
    {
     "name": "stdout",
     "output_type": "stream",
     "text": [
      "Displaying 11 of 11 matches:\n",
      "ong the former , one was of a most monstrous size . ... This came towards us , \n",
      "ON OF THE PSALMS . \" Touching that monstrous bulk of the whale or ork we have r\n",
      "ll over with a heathenish array of monstrous clubs and spears . Some were thick\n",
      "d as you gazed , and wondered what monstrous cannibal and savage could ever hav\n",
      "that has survived the flood ; most monstrous and most mountainous ! That Himmal\n",
      "they might scout at Moby Dick as a monstrous fable , or still worse and more de\n",
      "th of Radney .'\" CHAPTER 55 Of the Monstrous Pictures of Whales . I shall ere l\n",
      "ing Scenes . In connexion with the monstrous pictures of whales , I am strongly\n",
      "ere to enter upon those still more monstrous stories of them which are to be fo\n",
      "ght have been rummaged out of this monstrous cabinet there is no telling . But \n",
      "of Whale - Bones ; for Whales of a monstrous size are oftentimes cast up dead u\n"
     ]
    }
   ],
   "source": [
    "# above texts are object of type 'Text' and they have a superb method to explore texts.\n",
    "\n",
    "# concordance will print  all the occurance of a word along with some context.\n",
    "# lets explore two movie-'Moby Dick' and 'Sense and Sensibility'\n",
    "\n",
    "text1.concordance('monstrous')"
   ]
  },
  {
   "cell_type": "code",
   "execution_count": 10,
   "metadata": {},
   "outputs": [
    {
     "name": "stdout",
     "output_type": "stream",
     "text": [
      "Displaying 11 of 11 matches:\n",
      ". \" Now , Palmer , you shall see a monstrous pretty girl .\" He immediately went\n",
      "your sister is to marry him . I am monstrous glad of it , for then I shall have\n",
      "ou may tell your sister . She is a monstrous lucky girl to get him , upon my ho\n",
      "k how you will like them . Lucy is monstrous pretty , and so good humoured and \n",
      " Jennings , \" I am sure I shall be monstrous glad of Miss Marianne ' s company \n",
      " usual noisy cheerfulness , \" I am monstrous glad to see you -- sorry I could n\n",
      "t however , as it turns out , I am monstrous glad there was never any thing in \n",
      "so scornfully ! for they say he is monstrous fond of her , as well he may . I s\n",
      "possible that she should .\" \" I am monstrous glad of it . Good gracious ! I hav\n",
      "thing of the kind . So then he was monstrous happy , and talked on some time ab\n",
      "e very genteel people . He makes a monstrous deal of money , and they keep thei\n"
     ]
    }
   ],
   "source": [
    "text2.concordance('monstrous')"
   ]
  },
  {
   "cell_type": "raw",
   "metadata": {},
   "source": [
    "\n",
    "As we can see above both the writers use the word 'monstrous' in a very different way."
   ]
  },
  {
   "cell_type": "code",
   "execution_count": 13,
   "metadata": {},
   "outputs": [
    {
     "name": "stdout",
     "output_type": "stream",
     "text": [
      "very so exceedingly heartily a as good great extremely remarkably\n",
      "sweet vast amazingly\n"
     ]
    }
   ],
   "source": [
    "# lets see what other words appear in the same context as monstrous.\n",
    "text2.similar('monstrous')"
   ]
  },
  {
   "cell_type": "code",
   "execution_count": 15,
   "metadata": {},
   "outputs": [
    {
     "name": "stdout",
     "output_type": "stream",
     "text": [
      "true contemptible christian abundant few part mean careful puzzled\n",
      "mystifying passing curious loving wise doleful gamesome singular\n",
      "delightfully perilous fearless\n"
     ]
    }
   ],
   "source": [
    "# Clearly Austen uses \"monstrous\" to represent positive emotions and to amplify those emotions. She seems to use it \n",
    "text1.similar('monstrous')"
   ]
  },
  {
   "cell_type": "code",
   "execution_count": 16,
   "metadata": {},
   "outputs": [
    {
     "name": "stdout",
     "output_type": "stream",
     "text": [
      "a_pretty am_glad a_lucky is_pretty be_glad\n"
     ]
    }
   ],
   "source": [
    "# interchangeably with \"very\"  \n",
    "text2.common_contexts([\"monstrous\",\"very\"])"
   ]
  },
  {
   "cell_type": "code",
   "execution_count": 17,
   "metadata": {},
   "outputs": [
    {
     "data": {
      "image/png": "[encoded data removed]",
      "text/plain": [
       "<matplotlib.figure.Figure at 0x18c23ce8cc0>"
      ]
     },
     "metadata": {},
     "output_type": "display_data"
    }
   ],
   "source": [
    "# Lets see how the usage of certain words by Presidents has changed over the years. \n",
    "text4.dispersion_plot(['citizens','democracy','freedom','duties'])"
   ]
  },
  {
   "cell_type": "code",
   "execution_count": 25,
   "metadata": {},
   "outputs": [
    {
     "data": {
      "image/png": "[encoded data removed]",
      "text/plain": [
       "<matplotlib.figure.Figure at 0x18c33196b70>"
      ]
     },
     "metadata": {},
     "output_type": "display_data"
    },
    {
     "data": {
      "image/png": "[encoded data removed]",
      "text/plain": [
       "<matplotlib.figure.Figure at 0x18c33393ba8>"
      ]
     },
     "metadata": {},
     "output_type": "display_data"
    }
   ],
   "source": [
    "# Let's see what kind of emotions are expressed in Jane Austen's works vs Herman Melville's\n",
    "\n",
    "text2.dispersion_plot(['happy','sad'])\n",
    "\n",
    "text1.dispersion_plot(['happy','sad'])"
   ]
  },
  {
   "cell_type": "code",
   "execution_count": 34,
   "metadata": {},
   "outputs": [
    {
     "name": "stdout",
     "output_type": "stream",
     "text": [
      "['hi i am a new learner.', 'Please help me out']\n",
      "['hi', 'i', 'am', 'a', 'new', 'learner', '.', 'Please', 'help', 'me', 'out']\n",
      "[['hi', 'i', 'am', 'a', 'new', 'learner', '.'], ['Please', 'help', 'me', 'out']]\n"
     ]
    }
   ],
   "source": [
    "# Now let's get to some serious stuff. Often you want to extract features from \n",
    "# a text - these are attributes that will represent the text - words or sentences \n",
    "# How do we split a piece of text into constituent sentences/words? (these are called tokens)\n",
    "from nltk.tokenize import word_tokenize,sent_tokenize\n",
    "text = \"hi i am a new learner. Please help me out\"\n",
    "sent = sent_tokenize(text)\n",
    "print(sent)\n",
    "words = word_tokenize(text)\n",
    "print(words)\n",
    "words1 = [word_tokenize(sen) for sen in sent]\n",
    "print(words1)"
   ]
  },
  {
   "cell_type": "code",
   "execution_count": 42,
   "metadata": {},
   "outputs": [
    {
     "name": "stdout",
     "output_type": "stream",
     "text": [
      "{'am', 'my', 'into', 'again', 'few', 'there', 'what', 'all', 'if', 'both', 'too', 'they', 'but', 'up', '|', 'that', 'on', 'it', 'of', 'before', 'between', 'don', 'y', 'shouldn', '+', '#', 'a', 'no', 'shan', '~', \"'\", '@', 'ourselves', 'myself', 'have', 'against', 'below', 'not', 'm', '.', 'why', '/', 'own', 'your', 'just', 'can', 't', '^', 'doesn', 'having', 'or', 'o', 'who', 'yours', 'does', 'did', ':', '`', 'ma', 'off', '?', 'most', 'we', 'them', 'these', 'i', 'been', 're', ';', 'whom', '_', 'only', 'me', 'are', '{', 'same', '>', 'she', 'their', 'this', '$', 'at', 'so', 'until', 'than', 'as', 'through', 'some', 'is', 'from', 'here', 'he', 'weren', 'isn', 'had', 'once', 'any', '&', ']', 'yourselves', 's', 'him', 'further', 'under', 'himself', '-', 'herself', 'were', 'and', 'do', '(', '!', 'during', 'wouldn', 'while', 'haven', 'doing', 'in', 'out', 'her', 'how', 'will', '*', ',', '}', 'where', 'has', 'ours', 'mightn', 'yourself', 'which', 'our', 'wasn', 'other', 'down', 'll', 'its', 'an', '[', 'aren', 'won', '\"', 'hadn', 'such', '%', 'to', 'itself', 'more', 'for', 'be', 'ain', 'the', 'couldn', 'you', 'because', 'above', 'about', 'd', 'didn', ')', 'when', 'theirs', 'mustn', 'hers', '\\\\', 'now', 'themselves', '<', 'by', 'then', 'with', 'needn', '=', 'those', 've', 'should', 'hasn', 'over', 'was', 'very', 'each', 'after', 'being', 'his', 'nor'}\n"
     ]
    }
   ],
   "source": [
    "# lets filter out stop words\n",
    "from nltk.corpus import stopwords\n",
    "from string import punctuation\n",
    "customStopWords= set(stopwords.words('english')+list(punctuation))\n",
    "print(customStopWords)\n"
   ]
  },
  {
   "cell_type": "code",
   "execution_count": 43,
   "metadata": {},
   "outputs": [
    {
     "name": "stdout",
     "output_type": "stream",
     "text": [
      "['hi', 'new', 'learner', 'Please', 'help']\n"
     ]
    }
   ],
   "source": [
    "# words without stopwords in text\n",
    "wordWOstopwords = [word for word in word_tokenize(text) if word not in customStopWords]\n",
    "print(wordWOstopwords)"
   ]
  },
  {
   "cell_type": "code",
   "execution_count": 45,
   "metadata": {},
   "outputs": [
    {
     "name": "stdout",
     "output_type": "stream",
     "text": [
      "['mary', 'clos', 'on', 'clos', 'night', 'when', 'she', 'was', 'in', 'the', 'mood', 'to', 'clos', '.']\n"
     ]
    }
   ],
   "source": [
    "text2=\"Mary closed on closing night when she was in the mood to close.\"\n",
    "# 'close' appears in different morphological forms here, stemming will reduce all forms of the word 'close' to its root\n",
    "# NLTK has multiple stemmers based on different rules/algorithms. Stemming is also known as lemmatization. \n",
    "from nltk.stem.lancaster import LancasterStemmer\n",
    "st = LancasterStemmer()\n",
    "stemmedwords = [st.stem(word) for word in word_tokenize(text2)]\n",
    "print(stemmedwords)"
   ]
  },
  {
   "cell_type": "code",
   "execution_count": 46,
   "metadata": {},
   "outputs": [
    {
     "data": {
      "text/plain": [
       "[('Mary', 'NNP'),\n",
       " ('closed', 'VBD'),\n",
       " ('on', 'IN'),\n",
       " ('closing', 'NN'),\n",
       " ('night', 'NN'),\n",
       " ('when', 'WRB'),\n",
       " ('she', 'PRP'),\n",
       " ('was', 'VBD'),\n",
       " ('in', 'IN'),\n",
       " ('the', 'DT'),\n",
       " ('mood', 'NN'),\n",
       " ('to', 'TO'),\n",
       " ('close', 'VB'),\n",
       " ('.', '.')]"
      ]
     },
     "execution_count": 46,
     "metadata": {},
     "output_type": "execute_result"
    }
   ],
   "source": [
    "# NLTK has functionality to automatically tag words as nouns, verbs, conjunctions etc\n",
    "nltk.pos_tag(word_tokenize(text2))"
   ]
  },
  {
   "cell_type": "code",
   "execution_count": null,
   "metadata": {
    "collapsed": true
   },
   "outputs": [],
   "source": []
  }
 ],
 "metadata": {
  "kernelspec": {
   "display_name": "Python 3",
   "language": "python",
   "name": "python3"
  },
  "language_info": {
   "codemirror_mode": {
    "name": "ipython",
    "version": 3
   },
   "file_extension": ".py",
   "mimetype": "text/x-python",
   "name": "python",
   "nbconvert_exporter": "python",
   "pygments_lexer": "ipython3",
   "version": "3.6.2"
  }
 },
 "nbformat": 4,
 "nbformat_minor": 2
}
